{
  "nbformat": 4,
  "nbformat_minor": 0,
  "metadata": {
    "colab": {
      "provenance": []
    },
    "kernelspec": {
      "name": "python3",
      "display_name": "Python 3"
    },
    "language_info": {
      "name": "python"
    }
  },
  "cells": [
    {
      "cell_type": "code",
      "execution_count": 64,
      "metadata": {
        "id": "Y9S_kUVHvvAV"
      },
      "outputs": [],
      "source": [
        "from random import randint, random\n",
        "from matplotlib import pyplot as plt"
      ]
    },
    {
      "cell_type": "code",
      "source": [
        "class Individuo:\n",
        "  def __init__(self, n_genes, v_min, v_max):\n",
        "    self.cromossomo = self.iniciar_individuo(n_genes, v_min, v_max)\n",
        "    self.fitness = self.get_fitness()\n",
        "\n",
        "  def ajustar_cromossomo(self, cromossomo):\n",
        "    self.cromossomo = cromossomo\n",
        "    self.fitness = self.get_fitness()\n",
        "\n",
        "  def atualizar_aptidao(self):\n",
        "    self.fitness = self.get_fitness()\n",
        "\n",
        "  def __str__(self) -> str:\n",
        "    return f'Cromossomo: {self.cromossomo}, Fitness: {self.fitness}'\n",
        "\n",
        "  def iniciar_individuo(self, n_genes, min_v, max_v):\n",
        "    vetor = []\n",
        "\n",
        "    for i in range(n_genes):\n",
        "      gene = randint(min_v, max_v)\n",
        "      vetor.append(gene)\n",
        "    return vetor\n",
        "\n",
        "  def get_fitness(self):\n",
        "    # função sphere\n",
        "    return sum(x**2 for x in self.cromossomo)"
      ],
      "metadata": {
        "id": "k3olG3h0vyTX"
      },
      "execution_count": 48,
      "outputs": []
    },
    {
      "cell_type": "code",
      "source": [
        "def iniciar_populacao(n_individuos, n_genes, min_v, max_v):\n",
        "  populacao = []\n",
        "\n",
        "  for i in range(0, n_individuos):\n",
        "    individuo = Individuo(n_genes, min_v, max_v)\n",
        "    populacao.append(individuo)\n",
        "  return populacao\n"
      ],
      "metadata": {
        "id": "bEQKe7ByzDQy"
      },
      "execution_count": 49,
      "outputs": []
    },
    {
      "cell_type": "code",
      "source": [
        "def imprimir_populacao(populacao):\n",
        "  for individuo in populacao:\n",
        "    print(f'{individuo.cromossomo} - {individuo.fitness}')"
      ],
      "metadata": {
        "id": "MBZn5glHzbuN"
      },
      "execution_count": 45,
      "outputs": []
    },
    {
      "cell_type": "code",
      "source": [
        "# abordagem de seleção por torneio\n",
        "def selecao_torneio(populacao, n_individuos):\n",
        "  indice_melhor_torneio = -1\n",
        "  fitness_melhor_torneio = -1\n",
        "\n",
        "  for i in range(0, n_individuos):\n",
        "    x = randint(0, len(populacao) -1)\n",
        "\n",
        "    print(f'indices sorteados: {x}, populaçao: {populacao[x].fitness}')\n",
        "\n",
        "    if indice_melhor_torneio == -1 or \\\n",
        "      populacao[x].fitness < fitness_melhor_torneio:\n",
        "\n",
        "      indice_melhor_torneio = x\n",
        "      fitness_melhor_torneio = populacao[x].fitness\n",
        "\n",
        "  return indice_melhor_torneio\n",
        "\n"
      ],
      "metadata": {
        "id": "VennEagr2lAd"
      },
      "execution_count": 46,
      "outputs": []
    },
    {
      "cell_type": "code",
      "source": [
        "def cruzamento_uniforme(individuo1, individuo2, n_genes, min_v, max_v):\n",
        "\n",
        "  filho1 = Individuo(n_genes, min_v, max_v)\n",
        "  filho2 = Individuo(n_genes, min_v, max_v)\n",
        "\n",
        "  filho1_cr = []\n",
        "  filho2_cr = []\n",
        "\n",
        "  for i in range(0, n_genes):\n",
        "    selecao = randint(1,2)\n",
        "    if selecao == 1:\n",
        "      filho1_cr.append(individuo1.cromossomo[i])\n",
        "      filho2_cr.append(individuo2.cromossomo[i])\n",
        "    else:\n",
        "      filho1_cr.append(individuo2.cromossomo[i])\n",
        "      filho2_cr.append(individuo1.cromossomo[i])\n",
        "\n",
        "  filho1.ajustar_cromossomo(filho1_cr)\n",
        "  filho2.ajustar_cromossomo(filho2_cr)\n",
        "\n",
        "  print(f'PAI1 {individuo1} x PAI2 {individuo2}')\n",
        "  print(f'FILHO1 {filho1} x FILHO2 {filho2}')\n",
        "\n",
        "  return filho1, filho2\n"
      ],
      "metadata": {
        "id": "HjlW0E5qtUQ7"
      },
      "execution_count": 50,
      "outputs": []
    },
    {
      "cell_type": "code",
      "source": [
        "def mutacao_uniforme(individuo, n_genes, min_v, max_v, taxa_mutacao):\n",
        "  prob = random()\n",
        "  novo_cromossomo = []\n",
        "\n",
        "  for i in range(0, n_genes):\n",
        "    if prob < taxa_mutacao:\n",
        "      novo_valor = randint(min_v, max_v)\n",
        "      novo_cromossomo.append(novo_valor)\n",
        "      print(f'Mutou!{i}')\n",
        "    else:\n",
        "      novo_cromossomo.append(individuo.cromossomo[i])\n",
        "\n",
        "  print(f'individuo antes da mutação <{individuo}>')\n",
        "  individuo.ajustar_cromossomo(novo_cromossomo)\n",
        "  print(f'individuo depois da mutação <{individuo}>')\n",
        "  return individuo"
      ],
      "metadata": {
        "id": "SKheM6RtyCQm"
      },
      "execution_count": null,
      "outputs": []
    },
    {
      "cell_type": "code",
      "source": [
        "def melhor_individuo(populacao):\n",
        "  # return int(min(populacao, key=lambda x: x.fitness))\n",
        "  melhor_fit = populacao[0].fitness\n",
        "  for individuo in populacao:\n",
        "    if individuo.fitness < melhor_fit:\n",
        "      melhor_fit = individuo.fitness\n",
        "  return melhor_fit"
      ],
      "metadata": {
        "id": "YhvbK7or1jaw"
      },
      "execution_count": 56,
      "outputs": []
    },
    {
      "cell_type": "code",
      "source": [
        "def algoritmo_genetico(n_geracoes, n_populacao, n_genes, min_v, max_v, n_individuos_torneio, taxa_mutacao):\n",
        "    populacao = iniciar_populacao(n_populacao, n_genes, min_v, max_v)\n",
        "    melhor_individuo_atual = melhor_individuo(populacao)\n",
        "    vetor_solucao = []\n",
        "\n",
        "    for contador_geracoes in range(n_geracoes):\n",
        "        nova_populacao = []\n",
        "\n",
        "        for i in range(0, n_populacao, 2):\n",
        "            # Seleção para cruzamento (torneio)\n",
        "            ind_pai1 = selecao_torneio(populacao, n_individuos_torneio)\n",
        "            ind_pai2 = selecao_torneio(populacao, n_individuos_torneio)\n",
        "\n",
        "            pai1 = populacao[ind_pai1]\n",
        "            pai2 = populacao[ind_pai2]\n",
        "\n",
        "            # Cruzamento uniforme\n",
        "            filho1, filho2 = cruzamento_uniforme(pai1, pai2, n_genes, min_v, max_v)\n",
        "\n",
        "            # Mutação uniforme\n",
        "            filho1 = mutacao_uniforme(filho1, n_genes, min_v, max_v, taxa_mutacao)\n",
        "            filho2 = mutacao_uniforme(filho2, n_genes, min_v, max_v, taxa_mutacao)\n",
        "\n",
        "            # Adicionar filhos à nova população\n",
        "            nova_populacao.append(filho1)\n",
        "            nova_populacao.append(filho2)\n",
        "\n",
        "        # A população é completamente substituída pela nova geração (sem elitismo)\n",
        "        populacao = nova_populacao\n",
        "\n",
        "        melhor_individuo_geracao = melhor_individuo(populacao)\n",
        "\n",
        "        # Problema de minimização: atualizar o melhor indivíduo se necessário\n",
        "        if melhor_individuo_geracao < melhor_individuo_atual:\n",
        "            melhor_individuo_atual = melhor_individuo_geracao\n",
        "        vetor_solucao.append(melhor_individuo_geracao)\n",
        "\n",
        "        print(f'[{contador_geracoes}: {str(melhor_individuo_geracao)} x {str(melhor_individuo_atual)}]')\n",
        "\n",
        "    return melhor_individuo_atual, vetor_solucao\n"
      ],
      "metadata": {
        "id": "-Qn4B9uNklKR"
      },
      "execution_count": 74,
      "outputs": []
    },
    {
      "cell_type": "code",
      "source": [
        "def executar_algoritmo_genetico(n_execucoes, n_geracoes, n_populacao, n_genes, min_v, max_v, n_individuos_torneio, taxa_mutacao):\n",
        "  for exec in range(0, n_execucoes):\n",
        "\n",
        "    melhor_individuo, vetor_solucoes = algoritmo_genetico(\n",
        "      n_geracoes,\n",
        "      n_populacao,\n",
        "      n_genes,\n",
        "      min_v,\n",
        "      max_v,\n",
        "      n_individuos_torneio,\n",
        "      taxa_mutacao\n",
        "    )\n",
        "    if exec == 0:\n",
        "      evolucao_media = vetor_solucoes\n",
        "\n",
        "    for i in range(0, n_geracoes):\n",
        "      evolucao_media[i] = evolucao_media[i] + vetor_solucoes[i]\n",
        "\n",
        "  # media das evoluções do ag ao longo das n_execuções\n",
        "  for i in range(0, n_geracoes):\n",
        "    evolucao_media[i] = evolucao_media[i] / n_execucoes\n",
        "\n",
        "  print(f'evolução média: {evolucao_media}')\n",
        "\n",
        "  return evolucao_media\n",
        "\n",
        "\n"
      ],
      "metadata": {
        "id": "tTR_5Hi9tmRa"
      },
      "execution_count": 78,
      "outputs": []
    },
    {
      "cell_type": "code",
      "source": [
        "# teste separado\n",
        "populacao = iniciar_populacao(10, 5, -10, 10)\n",
        "imprimir_populacao(populacao)\n",
        "ind1 = selecao_torneio(populacao, 3)\n",
        "ind2 = selecao_torneio(populacao, 3)\n",
        "print('-------------------------------------------------')\n",
        "filho1, filho2 = cruzamento_uniforme(populacao[ind1], populacao[ind2], 5, -10, 10)\n",
        "mutacao_uniforme(filho1, 5, -10, 10, 0.5)\n",
        "mutacao_uniforme(filho2, 5, -10, 10, 0.5)\n",
        "print('-------------------------------------------------')\n",
        "print(f'melhor individuo> {str(melhor_individuo(populacao))}')"
      ],
      "metadata": {
        "id": "Rk34daCt0E-9"
      },
      "execution_count": null,
      "outputs": []
    },
    {
      "cell_type": "code",
      "source": [
        "# teste aplicando o algoritmo\n",
        "n_pop = 30\n",
        "n_genes = 5\n",
        "min_v = -5\n",
        "max_v = 5\n",
        "qt_individuos_torneio = 3\n",
        "tx_mut = 0.05\n",
        "n_geracoes = 100\n",
        "n_execucoes = 5\n",
        "sol1 = executar_algoritmo_genetico(\n",
        "    n_execucoes,\n",
        "    n_geracoes,\n",
        "    n_pop,\n",
        "    n_genes,\n",
        "    min_v,\n",
        "    max_v,\n",
        "    qt_individuos_torneio,\n",
        "    tx_mut\n",
        ")\n",
        "sol2 = executar_algoritmo_genetico(\n",
        "    n_execucoes,\n",
        "    n_geracoes,\n",
        "    n_pop,\n",
        "    n_genes,\n",
        "    min_v,\n",
        "    max_v,\n",
        "    qt_individuos_torneio,\n",
        "    (tx_mut+ 0.02)\n",
        ")\n",
        "plt.plot(sol1)\n",
        "plt.plot(sol2)"
      ],
      "metadata": {
        "id": "QQrjNrw70K5u"
      },
      "execution_count": null,
      "outputs": []
    },
    {
      "cell_type": "code",
      "source": [],
      "metadata": {
        "id": "BgJtB3ZQ0LVk"
      },
      "execution_count": null,
      "outputs": []
    }
  ]
}